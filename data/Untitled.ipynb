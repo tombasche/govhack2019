{
 "cells": [
  {
   "cell_type": "code",
   "execution_count": 1,
   "metadata": {
    "pycharm": {
     "is_executing": false
    }
   },
   "outputs": [],
   "source": [
    "import pandas as pd\n",
    "from datetime import datetime as dt"
   ]
  },
  {
   "cell_type": "code",
   "execution_count": 12,
   "metadata": {
    "pycharm": {
     "is_executing": false
    }
   },
   "outputs": [],
   "source": [
    "data = pd.read_csv(\"data/Employment_no_SA.csv\")"
   ]
  },
  {
   "cell_type": "code",
   "execution_count": 13,
   "outputs": [
    {
     "data": {
      "text/plain": "   Unnamed: 0       Month  Employment\n0           0  1978-02-01        61.1\n1           1  1978-03-01        61.1\n2           2  1978-04-01        61.1\n3           3  1978-05-01        61.1",
      "text/html": "<div>\n<style scoped>\n    .dataframe tbody tr th:only-of-type {\n        vertical-align: middle;\n    }\n\n    .dataframe tbody tr th {\n        vertical-align: top;\n    }\n\n    .dataframe thead th {\n        text-align: right;\n    }\n</style>\n<table border=\"1\" class=\"dataframe\">\n  <thead>\n    <tr style=\"text-align: right;\">\n      <th></th>\n      <th>Unnamed: 0</th>\n      <th>Month</th>\n      <th>Employment</th>\n    </tr>\n  </thead>\n  <tbody>\n    <tr>\n      <td>0</td>\n      <td>0</td>\n      <td>1978-02-01</td>\n      <td>61.1</td>\n    </tr>\n    <tr>\n      <td>1</td>\n      <td>1</td>\n      <td>1978-03-01</td>\n      <td>61.1</td>\n    </tr>\n    <tr>\n      <td>2</td>\n      <td>2</td>\n      <td>1978-04-01</td>\n      <td>61.1</td>\n    </tr>\n    <tr>\n      <td>3</td>\n      <td>3</td>\n      <td>1978-05-01</td>\n      <td>61.1</td>\n    </tr>\n  </tbody>\n</table>\n</div>"
     },
     "metadata": {},
     "output_type": "execute_result",
     "execution_count": 13
    }
   ],
   "source": [
    "data.head(4)"
   ],
   "metadata": {
    "collapsed": false,
    "pycharm": {
     "name": "#%%\n",
     "is_executing": false
    }
   }
  },
  {
   "cell_type": "code",
   "execution_count": 25,
   "metadata": {
    "pycharm": {
     "is_executing": false
    }
   },
   "outputs": [],
   "source": [
    "droped = data.drop(columns=[\"Unnamed: 0\"])\n",
    "thing = droped.to_csv(columns=[\"Month\", \"Employment\"])"
   ]
  },
  {
   "cell_type": "code",
   "execution_count": 26,
   "metadata": {
    "pycharm": {
     "is_executing": false
    }
   },
   "outputs": [
    {
     "data": {
      "text/plain": "            Employment\nMonth                 \n1978-02-01        61.1\n1978-03-01        61.1\n1978-04-01        61.1\n1978-05-01        61.1\n1978-06-01        61.0\n...                ...\n2019-03-01        65.8\n2019-04-01        65.9\n2019-05-01        66.0\n2019-06-01        66.0\n2019-07-01        66.1\n\n[498 rows x 1 columns]",
      "text/html": "<div>\n<style scoped>\n    .dataframe tbody tr th:only-of-type {\n        vertical-align: middle;\n    }\n\n    .dataframe tbody tr th {\n        vertical-align: top;\n    }\n\n    .dataframe thead th {\n        text-align: right;\n    }\n</style>\n<table border=\"1\" class=\"dataframe\">\n  <thead>\n    <tr style=\"text-align: right;\">\n      <th></th>\n      <th>Employment</th>\n    </tr>\n    <tr>\n      <th>Month</th>\n      <th></th>\n    </tr>\n  </thead>\n  <tbody>\n    <tr>\n      <td>1978-02-01</td>\n      <td>61.1</td>\n    </tr>\n    <tr>\n      <td>1978-03-01</td>\n      <td>61.1</td>\n    </tr>\n    <tr>\n      <td>1978-04-01</td>\n      <td>61.1</td>\n    </tr>\n    <tr>\n      <td>1978-05-01</td>\n      <td>61.1</td>\n    </tr>\n    <tr>\n      <td>1978-06-01</td>\n      <td>61.0</td>\n    </tr>\n    <tr>\n      <td>...</td>\n      <td>...</td>\n    </tr>\n    <tr>\n      <td>2019-03-01</td>\n      <td>65.8</td>\n    </tr>\n    <tr>\n      <td>2019-04-01</td>\n      <td>65.9</td>\n    </tr>\n    <tr>\n      <td>2019-05-01</td>\n      <td>66.0</td>\n    </tr>\n    <tr>\n      <td>2019-06-01</td>\n      <td>66.0</td>\n    </tr>\n    <tr>\n      <td>2019-07-01</td>\n      <td>66.1</td>\n    </tr>\n  </tbody>\n</table>\n<p>498 rows × 1 columns</p>\n</div>"
     },
     "metadata": {},
     "output_type": "execute_result",
     "execution_count": 26
    }
   ],
   "source": [
    "droped.index=droped.Month\n",
    "droped.drop([\"Month\"], axis=1)"
   ]
  },
  {
   "cell_type": "code",
   "execution_count": 28,
   "outputs": [],
   "source": [
    "droped.to_csv(\"data/Employment_no_SA.csv\")"
   ],
   "metadata": {
    "collapsed": false,
    "pycharm": {
     "name": "#%%\n",
     "is_executing": false
    }
   }
  }
 ],
 "metadata": {
  "kernelspec": {
   "display_name": "Python 3",
   "language": "python",
   "name": "python3"
  },
  "language_info": {
   "codemirror_mode": {
    "name": "ipython",
    "version": 3
   },
   "file_extension": ".py",
   "mimetype": "text/x-python",
   "name": "python",
   "nbconvert_exporter": "python",
   "pygments_lexer": "ipython3",
   "version": "3.6.8"
  },
  "pycharm": {
   "stem_cell": {
    "cell_type": "raw",
    "source": [],
    "metadata": {
     "collapsed": false
    }
   }
  }
 },
 "nbformat": 4,
 "nbformat_minor": 2
}