{
 "cells": [
  {
   "cell_type": "code",
   "execution_count": 49,
   "metadata": {
    "collapsed": true,
    "pycharm": {
     "is_executing": false
    }
   },
   "outputs": [
    {
     "name": "stdout",
     "text": [
      "            Birth Rate\nMonth                 \n2006-01-01         390\n2006-02-01         364\n2006-03-01         417\n            Employment\nMonth                 \n1978-02-01        61.1\n1978-03-01        61.1\n1978-04-01        61.1\n"
     ],
     "output_type": "stream"
    }
   ],
   "source": [
    "import pandas as pd\n",
    "\n",
    "births = pd.read_csv(\"birth_data.csv\")\n",
    "births.columns = [\"Month\", \"Birth Rate\"]\n",
    "births.index = births[\"Month\"]\n",
    "births.drop(columns=[\"Month\"], inplace=True)\n",
    "\n",
    "\n",
    "jobs = pd.read_csv(\"Employment_no_SA.csv\")\n",
    "jobs = jobs.drop([\"Month.1\"], axis=1)\n",
    "jobs.index = jobs.Month\n",
    "jobs = jobs.drop([\"Month\"], axis=1)\n",
    "jobs.columns = [\"Employment\"]\n",
    "\n",
    "bus_rides = pd.read_csv(\"passengers_per_month.csv\")\n",
    "bus_rides.columns = [\"Month\", \"Avg Bus Utilization\"]\n",
    "bus_rides.index = bus_rides[\"Month\"]\n",
    "bus_rides.drop(columns=[\"Month\"], inplace=True)\n",
    "\n",
    "\n",
    "population = pd.read_csv(\"population_data.csv\")\n",
    "air = pd.read_csv(\"air_quality_data.csv\")\n",
    "air[\"DateTime\"] = pd.to_datetime(air[\"DateTime\"])\n",
    "air.set_index(\"DateTime\", inplace=True)\n",
    "\n",
    "air_month = pd.DataFrame(air.resample(\"BMS\").mean()[\"AQI_Site\"])\n",
    "air_month.columns = [\"AQI\"]\n",
    "air_month.index = pd.to_datetime(air_month.index)\n",
    "\n",
    "Serieses = [births, jobs]\n",
    "# Serieses = [births, jobs, bus_rides]\n",
    "for s in Serieses:\n",
    "    print(s.head(3))"
   ]
  },
  {
   "cell_type": "code",
   "execution_count": 50,
   "outputs": [
    {
     "name": "stderr",
     "text": [
      "/home/metaten/.virtualenvs/govhack/lib/python3.6/site-packages/ipykernel_launcher.py:3: FutureWarning: Sorting because non-concatenation axis is not aligned. A future version\nof pandas will change to not sort by default.\n\nTo accept the future behavior, pass 'sort=False'.\n\nTo retain the current behavior and silence the warning, pass 'sort=True'.\n\n  This is separate from the ipykernel package so we can avoid doing imports until\n"
     ],
     "output_type": "stream"
    }
   ],
   "source": [
    "series_names = [\"Employment\", \"Birth Rate\"]\n",
    "\n",
    "hist_data = pd.concat(Serieses, axis=1)\n",
    "hist_data.dropna(inplace=True)\n",
    "projection = pd.DataFrame(columns=hist_data.columns)\n",
    "for s_name in series_names:\n",
    "    hist_data[s_name + \" delta\"] = hist_data[s_name].diff()\n",
    "hist_data.drop(hist_data.head(1).index, inplace=True)\n",
    "hist_data.drop(hist_data.tail(1).index, inplace=True)"
   ],
   "metadata": {
    "collapsed": false,
    "pycharm": {
     "name": "#%%\n",
     "is_executing": false
    }
   }
  },
  {
   "cell_type": "code",
   "execution_count": 20,
   "outputs": [
    {
     "data": {
      "text/plain": "            Birth Rate  Employment  Employment delta  Birth Rate delta\n2017-09-01       442.0        65.3               0.1               3.0\n2017-10-01       422.0        65.4               0.1             -20.0\n2017-11-01       350.0        65.5               0.1             -72.0",
      "text/html": "<div>\n<style scoped>\n    .dataframe tbody tr th:only-of-type {\n        vertical-align: middle;\n    }\n\n    .dataframe tbody tr th {\n        vertical-align: top;\n    }\n\n    .dataframe thead th {\n        text-align: right;\n    }\n</style>\n<table border=\"1\" class=\"dataframe\">\n  <thead>\n    <tr style=\"text-align: right;\">\n      <th></th>\n      <th>Birth Rate</th>\n      <th>Employment</th>\n      <th>Employment delta</th>\n      <th>Birth Rate delta</th>\n    </tr>\n  </thead>\n  <tbody>\n    <tr>\n      <td>2017-09-01</td>\n      <td>442.0</td>\n      <td>65.3</td>\n      <td>0.1</td>\n      <td>3.0</td>\n    </tr>\n    <tr>\n      <td>2017-10-01</td>\n      <td>422.0</td>\n      <td>65.4</td>\n      <td>0.1</td>\n      <td>-20.0</td>\n    </tr>\n    <tr>\n      <td>2017-11-01</td>\n      <td>350.0</td>\n      <td>65.5</td>\n      <td>0.1</td>\n      <td>-72.0</td>\n    </tr>\n  </tbody>\n</table>\n</div>"
     },
     "metadata": {},
     "output_type": "execute_result",
     "execution_count": 20
    }
   ],
   "source": [],
   "metadata": {
    "collapsed": false,
    "pycharm": {
     "name": "#%%\n",
     "is_executing": false
    }
   }
  },
  {
   "cell_type": "code",
   "execution_count": 66,
   "outputs": [],
   "source": [
    "periods = 120\n",
    "pred = pd.date_range(hist_data.tail(1).index.values[0], periods=periods, freq='M')\n",
    "e_end: float = 70 \n",
    "e_start: float = 65\n",
    "def lerp(start, end, frac):\n",
    "    return start + ((end - start) * frac)\n",
    "\n",
    "def lerp_range(start, end, steps):\n",
    "    return [lerp(start, end, x/(steps -1)) for x in range(steps)]\n",
    "\n",
    "predictions = pd.DataFrame({\"Date\": pred, \"Employment\": lerp_range(e_start,e_end, periods)})"
   ],
   "metadata": {
    "collapsed": false,
    "pycharm": {
     "name": "#%%\n",
     "is_executing": false
    }
   }
  },
  {
   "cell_type": "code",
   "execution_count": 53,
   "outputs": [
    {
     "data": {
      "text/plain": "            Birth Rate  Employment  Employment delta  Birth Rate delta\n2017-09-01       442.0        65.3               0.1               3.0\n2017-10-01       422.0        65.4               0.1             -20.0\n2017-11-01       350.0        65.5               0.1             -72.0",
      "text/html": "<div>\n<style scoped>\n    .dataframe tbody tr th:only-of-type {\n        vertical-align: middle;\n    }\n\n    .dataframe tbody tr th {\n        vertical-align: top;\n    }\n\n    .dataframe thead th {\n        text-align: right;\n    }\n</style>\n<table border=\"1\" class=\"dataframe\">\n  <thead>\n    <tr style=\"text-align: right;\">\n      <th></th>\n      <th>Birth Rate</th>\n      <th>Employment</th>\n      <th>Employment delta</th>\n      <th>Birth Rate delta</th>\n    </tr>\n  </thead>\n  <tbody>\n    <tr>\n      <td>2017-09-01</td>\n      <td>442.0</td>\n      <td>65.3</td>\n      <td>0.1</td>\n      <td>3.0</td>\n    </tr>\n    <tr>\n      <td>2017-10-01</td>\n      <td>422.0</td>\n      <td>65.4</td>\n      <td>0.1</td>\n      <td>-20.0</td>\n    </tr>\n    <tr>\n      <td>2017-11-01</td>\n      <td>350.0</td>\n      <td>65.5</td>\n      <td>0.1</td>\n      <td>-72.0</td>\n    </tr>\n  </tbody>\n</table>\n</div>"
     },
     "metadata": {},
     "output_type": "execute_result",
     "execution_count": 53
    }
   ],
   "source": [
    "hist_data.tail(3)"
   ],
   "metadata": {
    "collapsed": false,
    "pycharm": {
     "name": "#%%\n",
     "is_executing": false
    }
   }
  },
  {
   "cell_type": "code",
   "execution_count": 94,
   "outputs": [
    {
     "name": "stdout",
     "text": [
      "{'Date': Timestamp('2017-11-30 00:00:00'), 'Employment': 65.0, 'Birth Rate': 304.0}\n{'Date': Timestamp('2017-12-31 00:00:00'), 'Employment': 65.04201680672269, 'Birth Rate': 232.0}\n{'Date': Timestamp('2018-01-31 00:00:00'), 'Employment': 65.08403361344538, 'Birth Rate': 160.0}\n{'Date': Timestamp('2018-02-28 00:00:00'), 'Employment': 65.12605042016807, 'Birth Rate': 88.0}\n{'Date': Timestamp('2018-03-31 00:00:00'), 'Employment': 65.16806722689076, 'Birth Rate': 16.0}\n{'Date': Timestamp('2018-04-30 00:00:00'), 'Employment': 65.21008403361344, 'Birth Rate': -56.0}\n{'Date': Timestamp('2018-05-31 00:00:00'), 'Employment': 65.25210084033614, 'Birth Rate': -128.0}\n{'Date': Timestamp('2018-06-30 00:00:00'), 'Employment': 65.29411764705883, 'Birth Rate': -200.0}\n{'Date': Timestamp('2018-07-31 00:00:00'), 'Employment': 65.33613445378151, 'Birth Rate': -272.0}\n{'Date': Timestamp('2018-08-31 00:00:00'), 'Employment': 65.3781512605042, 'Birth Rate': -344.0}\n{'Date': Timestamp('2018-09-30 00:00:00'), 'Employment': 65.4201680672269, 'Birth Rate': -416.0}\n{'Date': Timestamp('2018-10-31 00:00:00'), 'Employment': 65.46218487394958, 'Birth Rate': -488.0}\n{'Date': Timestamp('2018-11-30 00:00:00'), 'Employment': 65.50420168067227, 'Birth Rate': -560.0}\n{'Date': Timestamp('2018-12-31 00:00:00'), 'Employment': 65.54621848739495, 'Birth Rate': -632.0}\n{'Date': Timestamp('2019-01-31 00:00:00'), 'Employment': 65.58823529411765, 'Birth Rate': -704.0}\n{'Date': Timestamp('2019-02-28 00:00:00'), 'Employment': 65.63025210084034, 'Birth Rate': -776.0}\n{'Date': Timestamp('2019-03-31 00:00:00'), 'Employment': 65.67226890756302, 'Birth Rate': -848.0}\n{'Date': Timestamp('2019-04-30 00:00:00'), 'Employment': 65.71428571428571, 'Birth Rate': -920.0}\n{'Date': Timestamp('2019-05-31 00:00:00'), 'Employment': 65.75630252100841, 'Birth Rate': -992.0}\n{'Date': Timestamp('2019-06-30 00:00:00'), 'Employment': 65.7983193277311, 'Birth Rate': -1064.0}\n{'Date': Timestamp('2019-07-31 00:00:00'), 'Employment': 65.84033613445378, 'Birth Rate': -1136.0}\n{'Date': Timestamp('2019-08-31 00:00:00'), 'Employment': 65.88235294117646, 'Birth Rate': -1208.0}\n{'Date': Timestamp('2019-09-30 00:00:00'), 'Employment': 65.92436974789916, 'Birth Rate': -1280.0}\n{'Date': Timestamp('2019-10-31 00:00:00'), 'Employment': 65.96638655462185, 'Birth Rate': -1352.0}\n{'Date': Timestamp('2019-11-30 00:00:00'), 'Employment': 66.00840336134453, 'Birth Rate': -1424.0}\n{'Date': Timestamp('2019-12-31 00:00:00'), 'Employment': 66.05042016806723, 'Birth Rate': -1496.0}\n{'Date': Timestamp('2020-01-31 00:00:00'), 'Employment': 66.09243697478992, 'Birth Rate': -1568.0}\n{'Date': Timestamp('2020-02-29 00:00:00'), 'Employment': 66.1344537815126, 'Birth Rate': -1640.0}\n{'Date': Timestamp('2020-03-31 00:00:00'), 'Employment': 66.17647058823529, 'Birth Rate': -1712.0}\n{'Date': Timestamp('2020-04-30 00:00:00'), 'Employment': 66.21848739495799, 'Birth Rate': -1784.0}\n{'Date': Timestamp('2020-05-31 00:00:00'), 'Employment': 66.26050420168067, 'Birth Rate': -1856.0}\n{'Date': Timestamp('2020-06-30 00:00:00'), 'Employment': 66.30252100840336, 'Birth Rate': -1928.0}\n{'Date': Timestamp('2020-07-31 00:00:00'), 'Employment': 66.34453781512605, 'Birth Rate': -2000.0}\n",
      "{'Date': Timestamp('2020-08-31 00:00:00'), 'Employment': 66.38655462184875, 'Birth Rate': -2072.0}\n{'Date': Timestamp('2020-09-30 00:00:00'), 'Employment': 66.42857142857143, 'Birth Rate': -2144.0}\n{'Date': Timestamp('2020-10-31 00:00:00'), 'Employment': 66.47058823529412, 'Birth Rate': -2216.0}\n{'Date': Timestamp('2020-11-30 00:00:00'), 'Employment': 66.5126050420168, 'Birth Rate': -2288.0}\n{'Date': Timestamp('2020-12-31 00:00:00'), 'Employment': 66.5546218487395, 'Birth Rate': -2360.0}\n{'Date': Timestamp('2021-01-31 00:00:00'), 'Employment': 66.59663865546219, 'Birth Rate': -2432.0}\n{'Date': Timestamp('2021-02-28 00:00:00'), 'Employment': 66.63865546218487, 'Birth Rate': -2504.0}\n{'Date': Timestamp('2021-03-31 00:00:00'), 'Employment': 66.68067226890756, 'Birth Rate': -2576.0}\n{'Date': Timestamp('2021-04-30 00:00:00'), 'Employment': 66.72268907563026, 'Birth Rate': -2648.0}\n{'Date': Timestamp('2021-05-31 00:00:00'), 'Employment': 66.76470588235294, 'Birth Rate': -2720.0}\n{'Date': Timestamp('2021-06-30 00:00:00'), 'Employment': 66.80672268907563, 'Birth Rate': -2792.0}\n{'Date': Timestamp('2021-07-31 00:00:00'), 'Employment': 66.84873949579831, 'Birth Rate': -2864.0}\n{'Date': Timestamp('2021-08-31 00:00:00'), 'Employment': 66.89075630252101, 'Birth Rate': -2936.0}\n{'Date': Timestamp('2021-09-30 00:00:00'), 'Employment': 66.9327731092437, 'Birth Rate': -3008.0}\n{'Date': Timestamp('2021-10-31 00:00:00'), 'Employment': 66.97478991596638, 'Birth Rate': -3080.0}\n{'Date': Timestamp('2021-11-30 00:00:00'), 'Employment': 67.01680672268907, 'Birth Rate': -3152.0}\n{'Date': Timestamp('2021-12-31 00:00:00'), 'Employment': 67.05882352941177, 'Birth Rate': -3224.0}\n{'Date': Timestamp('2022-01-31 00:00:00'), 'Employment': 67.10084033613445, 'Birth Rate': -3296.0}\n{'Date': Timestamp('2022-02-28 00:00:00'), 'Employment': 67.14285714285714, 'Birth Rate': -3368.0}\n{'Date': Timestamp('2022-03-31 00:00:00'), 'Employment': 67.18487394957984, 'Birth Rate': -3440.0}\n{'Date': Timestamp('2022-04-30 00:00:00'), 'Employment': 67.22689075630252, 'Birth Rate': -3512.0}\n{'Date': Timestamp('2022-05-31 00:00:00'), 'Employment': 67.26890756302521, 'Birth Rate': -3584.0}\n{'Date': Timestamp('2022-06-30 00:00:00'), 'Employment': 67.3109243697479, 'Birth Rate': -3656.0}\n{'Date': Timestamp('2022-07-31 00:00:00'), 'Employment': 67.3529411764706, 'Birth Rate': -3728.0}\n{'Date': Timestamp('2022-08-31 00:00:00'), 'Employment': 67.39495798319328, 'Birth Rate': -3800.0}\n{'Date': Timestamp('2022-09-30 00:00:00'), 'Employment': 67.43697478991596, 'Birth Rate': -3872.0}\n{'Date': Timestamp('2022-10-31 00:00:00'), 'Employment': 67.47899159663865, 'Birth Rate': -3944.0}\n{'Date': Timestamp('2022-11-30 00:00:00'), 'Employment': 67.52100840336135, 'Birth Rate': -4016.0}\n{'Date': Timestamp('2022-12-31 00:00:00'), 'Employment': 67.56302521008404, 'Birth Rate': -4088.0}\n{'Date': Timestamp('2023-01-31 00:00:00'), 'Employment': 67.60504201680672, 'Birth Rate': -4160.0}\n{'Date': Timestamp('2023-02-28 00:00:00'), 'Employment': 67.6470588235294, 'Birth Rate': -4232.0}\n",
      "{'Date': Timestamp('2023-03-31 00:00:00'), 'Employment': 67.6890756302521, 'Birth Rate': -4304.0}\n{'Date': Timestamp('2023-04-30 00:00:00'), 'Employment': 67.73109243697479, 'Birth Rate': -4376.0}\n{'Date': Timestamp('2023-05-31 00:00:00'), 'Employment': 67.77310924369748, 'Birth Rate': -4448.0}\n{'Date': Timestamp('2023-06-30 00:00:00'), 'Employment': 67.81512605042016, 'Birth Rate': -4520.0}\n{'Date': Timestamp('2023-07-31 00:00:00'), 'Employment': 67.85714285714286, 'Birth Rate': -4592.0}\n{'Date': Timestamp('2023-08-31 00:00:00'), 'Employment': 67.89915966386555, 'Birth Rate': -4664.0}\n{'Date': Timestamp('2023-09-30 00:00:00'), 'Employment': 67.94117647058823, 'Birth Rate': -4736.0}\n{'Date': Timestamp('2023-10-31 00:00:00'), 'Employment': 67.98319327731093, 'Birth Rate': -4808.0}\n{'Date': Timestamp('2023-11-30 00:00:00'), 'Employment': 68.02521008403362, 'Birth Rate': -4880.0}\n{'Date': Timestamp('2023-12-31 00:00:00'), 'Employment': 68.0672268907563, 'Birth Rate': -4952.0}\n{'Date': Timestamp('2024-01-31 00:00:00'), 'Employment': 68.10924369747899, 'Birth Rate': -5024.0}\n{'Date': Timestamp('2024-02-29 00:00:00'), 'Employment': 68.15126050420169, 'Birth Rate': -5096.0}\n{'Date': Timestamp('2024-03-31 00:00:00'), 'Employment': 68.19327731092437, 'Birth Rate': -5168.0}\n{'Date': Timestamp('2024-04-30 00:00:00'), 'Employment': 68.23529411764706, 'Birth Rate': -5240.0}\n{'Date': Timestamp('2024-05-31 00:00:00'), 'Employment': 68.27731092436974, 'Birth Rate': -5312.0}\n{'Date': Timestamp('2024-06-30 00:00:00'), 'Employment': 68.31932773109244, 'Birth Rate': -5384.0}\n{'Date': Timestamp('2024-07-31 00:00:00'), 'Employment': 68.36134453781513, 'Birth Rate': -5456.0}\n{'Date': Timestamp('2024-08-31 00:00:00'), 'Employment': 68.40336134453781, 'Birth Rate': -5528.0}\n{'Date': Timestamp('2024-09-30 00:00:00'), 'Employment': 68.4453781512605, 'Birth Rate': -5600.0}\n{'Date': Timestamp('2024-10-31 00:00:00'), 'Employment': 68.4873949579832, 'Birth Rate': -5672.0}\n{'Date': Timestamp('2024-11-30 00:00:00'), 'Employment': 68.52941176470588, 'Birth Rate': -5744.0}\n{'Date': Timestamp('2024-12-31 00:00:00'), 'Employment': 68.57142857142857, 'Birth Rate': -5816.0}\n{'Date': Timestamp('2025-01-31 00:00:00'), 'Employment': 68.61344537815125, 'Birth Rate': -5888.0}\n{'Date': Timestamp('2025-02-28 00:00:00'), 'Employment': 68.65546218487395, 'Birth Rate': -5960.0}\n{'Date': Timestamp('2025-03-31 00:00:00'), 'Employment': 68.69747899159664, 'Birth Rate': -6032.0}\n{'Date': Timestamp('2025-04-30 00:00:00'), 'Employment': 68.73949579831933, 'Birth Rate': -6104.0}\n{'Date': Timestamp('2025-05-31 00:00:00'), 'Employment': 68.78151260504201, 'Birth Rate': -6176.0}\n{'Date': Timestamp('2025-06-30 00:00:00'), 'Employment': 68.82352941176471, 'Birth Rate': -6248.0}\n{'Date': Timestamp('2025-07-31 00:00:00'), 'Employment': 68.8655462184874, 'Birth Rate': -6320.0}\n{'Date': Timestamp('2025-08-31 00:00:00'), 'Employment': 68.90756302521008, 'Birth Rate': -6392.0}\n{'Date': Timestamp('2025-09-30 00:00:00'), 'Employment': 68.94957983193277, 'Birth Rate': -6464.0}\n{'Date': Timestamp('2025-10-31 00:00:00'), 'Employment': 68.99159663865547, 'Birth Rate': -6536.0}\n{'Date': Timestamp('2025-11-30 00:00:00'), 'Employment': 69.03361344537815, 'Birth Rate': -6608.0}\n{'Date': Timestamp('2025-12-31 00:00:00'), 'Employment': 69.07563025210084, 'Birth Rate': -6680.0}\n{'Date': Timestamp('2026-01-31 00:00:00'), 'Employment': 69.11764705882354, 'Birth Rate': -6752.0}\n{'Date': Timestamp('2026-02-28 00:00:00'), 'Employment': 69.15966386554622, 'Birth Rate': -6824.0}\n{'Date': Timestamp('2026-03-31 00:00:00'), 'Employment': 69.2016806722689, 'Birth Rate': -6896.0}\n",
      "{'Date': Timestamp('2026-04-30 00:00:00'), 'Employment': 69.24369747899159, 'Birth Rate': -6968.0}\n{'Date': Timestamp('2026-05-31 00:00:00'), 'Employment': 69.28571428571429, 'Birth Rate': -7040.0}\n{'Date': Timestamp('2026-06-30 00:00:00'), 'Employment': 69.32773109243698, 'Birth Rate': -7112.0}\n{'Date': Timestamp('2026-07-31 00:00:00'), 'Employment': 69.36974789915966, 'Birth Rate': -7184.0}\n{'Date': Timestamp('2026-08-31 00:00:00'), 'Employment': 69.41176470588235, 'Birth Rate': -7256.0}\n{'Date': Timestamp('2026-09-30 00:00:00'), 'Employment': 69.45378151260505, 'Birth Rate': -7328.0}\n{'Date': Timestamp('2026-10-31 00:00:00'), 'Employment': 69.49579831932773, 'Birth Rate': -7400.0}\n{'Date': Timestamp('2026-11-30 00:00:00'), 'Employment': 69.53781512605042, 'Birth Rate': -7472.0}\n{'Date': Timestamp('2026-12-31 00:00:00'), 'Employment': 69.5798319327731, 'Birth Rate': -7544.0}\n{'Date': Timestamp('2027-01-31 00:00:00'), 'Employment': 69.6218487394958, 'Birth Rate': -7616.0}\n{'Date': Timestamp('2027-02-28 00:00:00'), 'Employment': 69.66386554621849, 'Birth Rate': -7688.0}\n{'Date': Timestamp('2027-03-31 00:00:00'), 'Employment': 69.70588235294117, 'Birth Rate': -7760.0}\n{'Date': Timestamp('2027-04-30 00:00:00'), 'Employment': 69.74789915966386, 'Birth Rate': -7832.0}\n{'Date': Timestamp('2027-05-31 00:00:00'), 'Employment': 69.78991596638656, 'Birth Rate': -7904.0}\n{'Date': Timestamp('2027-06-30 00:00:00'), 'Employment': 69.83193277310924, 'Birth Rate': -7976.0}\n{'Date': Timestamp('2027-07-31 00:00:00'), 'Employment': 69.87394957983193, 'Birth Rate': -8048.0}\n{'Date': Timestamp('2027-08-31 00:00:00'), 'Employment': 69.91596638655462, 'Birth Rate': -8120.0}\n{'Date': Timestamp('2027-09-30 00:00:00'), 'Employment': 69.95798319327731, 'Birth Rate': -8192.0}\n{'Date': Timestamp('2027-10-31 00:00:00'), 'Employment': 70.0, 'Birth Rate': -8264.0}\n"
     ],
     "output_type": "stream"
    },
    {
     "data": {
      "text/plain": "Empty DataFrame\nColumns: []\nIndex: []",
      "text/html": "<div>\n<style scoped>\n    .dataframe tbody tr th:only-of-type {\n        vertical-align: middle;\n    }\n\n    .dataframe tbody tr th {\n        vertical-align: top;\n    }\n\n    .dataframe thead th {\n        text-align: right;\n    }\n</style>\n<table border=\"1\" class=\"dataframe\">\n  <thead>\n    <tr style=\"text-align: right;\">\n      <th></th>\n    </tr>\n  </thead>\n  <tbody>\n  </tbody>\n</table>\n</div>"
     },
     "metadata": {},
     "output_type": "execute_result",
     "execution_count": 94
    }
   ],
   "source": [
    "hist_data[\"LS\"] = pd.Series()\n",
    "hist_data[\"LS\"] = hist_data[\"LS\"].fillna(0)\n",
    "prev_row = hist_data.tail(1).copy(deep=True)\n",
    "prev_row.drop(columns=[\"LS\"], inplace=True)\n",
    "predicted_series = \"Employment\"\n",
    "series_names = [\"Employment\", \"Birth Rate\"]\n",
    "projection = pd.DataFrame(columns=[\"Date\"].append(series_names))\n",
    "projection = []\n",
    "\n",
    "for idx, row in predictions.iterrows():\n",
    "    diff = row[predicted_series] - prev_row[predicted_series].values[0]\n",
    "    new = prev_row.copy(deep=True)\n",
    "    # print(new)\n",
    "    new[predicted_series] = row[predicted_series]\n",
    "    new.iloc[0][predicted_series + \" delta\"] = diff\n",
    "    hist_data[\"LS\"] = pd.Series()\n",
    "    hist_data[\"LS\"] = hist_data[\"LS\"].fillna(0)\n",
    "    for series in series_names:\n",
    "        hist_data[\"LS\"] += ((hist_data[series + \" delta\"] - new[series + \" delta\"].values[0])/\n",
    "                           hist_data[series + \" delta\"].abs().mean()) ** 2\n",
    "    # print(new)\n",
    "    least = hist_data[hist_data[\"LS\"] == hist_data[\"LS\"].min()]\n",
    "    # print(hist_data.tail(3))\n",
    "    # print(least)\n",
    "    new_proj = {\"Date\": row[\"Date\"]}\n",
    "    for series in series_names:\n",
    "        if series != predicted_series:\n",
    "            new[series] += least[series + \" delta\"].values[0]\n",
    "        new_proj[series] = new[series].values[0]\n",
    "    prev_row = new.copy(deep=True)\n",
    "    print(new_proj)\n",
    "    projection.append(new_proj, ignore_index=True)\n",
    "        \n",
    "    \n",
    "    \n",
    "    \n",
    "    \n",
    "    # projection.append()\n",
    "projection"
   ],
   "metadata": {
    "collapsed": false,
    "pycharm": {
     "name": "#%%\n",
     "is_executing": false
    }
   }
  },
  {
   "cell_type": "code",
   "execution_count": 188,
   "outputs": [
    {
     "data": {
      "text/plain": "            Birth Rate  Employment  Employment delta  Birth Rate delta   LS\n2006-02-01       364.0        64.5               0.0             -26.0  0.0\n2006-03-01       417.0        64.5               0.0              53.0  0.0\n2006-04-01       374.0        64.6               0.1             -43.0  0.0\n2006-05-01       361.0        64.7               0.1             -13.0  0.0\n2006-06-01       360.0        64.8               0.1              -1.0  0.0\n...                ...         ...               ...               ...  ...\n2017-07-01       441.0        65.2               0.1              -1.0  0.0\n2017-08-01       439.0        65.2               0.0              -2.0  0.0\n2017-09-01       442.0        65.3               0.1               3.0  0.0\n2017-10-01       422.0        65.4               0.1             -20.0  0.0\n2017-11-01       350.0        65.5               0.1             -72.0  0.0\n\n[142 rows x 5 columns]",
      "text/html": "<div>\n<style scoped>\n    .dataframe tbody tr th:only-of-type {\n        vertical-align: middle;\n    }\n\n    .dataframe tbody tr th {\n        vertical-align: top;\n    }\n\n    .dataframe thead th {\n        text-align: right;\n    }\n</style>\n<table border=\"1\" class=\"dataframe\">\n  <thead>\n    <tr style=\"text-align: right;\">\n      <th></th>\n      <th>Birth Rate</th>\n      <th>Employment</th>\n      <th>Employment delta</th>\n      <th>Birth Rate delta</th>\n      <th>LS</th>\n    </tr>\n  </thead>\n  <tbody>\n    <tr>\n      <td>2006-02-01</td>\n      <td>364.0</td>\n      <td>64.5</td>\n      <td>0.0</td>\n      <td>-26.0</td>\n      <td>0.0</td>\n    </tr>\n    <tr>\n      <td>2006-03-01</td>\n      <td>417.0</td>\n      <td>64.5</td>\n      <td>0.0</td>\n      <td>53.0</td>\n      <td>0.0</td>\n    </tr>\n    <tr>\n      <td>2006-04-01</td>\n      <td>374.0</td>\n      <td>64.6</td>\n      <td>0.1</td>\n      <td>-43.0</td>\n      <td>0.0</td>\n    </tr>\n    <tr>\n      <td>2006-05-01</td>\n      <td>361.0</td>\n      <td>64.7</td>\n      <td>0.1</td>\n      <td>-13.0</td>\n      <td>0.0</td>\n    </tr>\n    <tr>\n      <td>2006-06-01</td>\n      <td>360.0</td>\n      <td>64.8</td>\n      <td>0.1</td>\n      <td>-1.0</td>\n      <td>0.0</td>\n    </tr>\n    <tr>\n      <td>...</td>\n      <td>...</td>\n      <td>...</td>\n      <td>...</td>\n      <td>...</td>\n      <td>...</td>\n    </tr>\n    <tr>\n      <td>2017-07-01</td>\n      <td>441.0</td>\n      <td>65.2</td>\n      <td>0.1</td>\n      <td>-1.0</td>\n      <td>0.0</td>\n    </tr>\n    <tr>\n      <td>2017-08-01</td>\n      <td>439.0</td>\n      <td>65.2</td>\n      <td>0.0</td>\n      <td>-2.0</td>\n      <td>0.0</td>\n    </tr>\n    <tr>\n      <td>2017-09-01</td>\n      <td>442.0</td>\n      <td>65.3</td>\n      <td>0.1</td>\n      <td>3.0</td>\n      <td>0.0</td>\n    </tr>\n    <tr>\n      <td>2017-10-01</td>\n      <td>422.0</td>\n      <td>65.4</td>\n      <td>0.1</td>\n      <td>-20.0</td>\n      <td>0.0</td>\n    </tr>\n    <tr>\n      <td>2017-11-01</td>\n      <td>350.0</td>\n      <td>65.5</td>\n      <td>0.1</td>\n      <td>-72.0</td>\n      <td>0.0</td>\n    </tr>\n  </tbody>\n</table>\n<p>142 rows × 5 columns</p>\n</div>"
     },
     "metadata": {},
     "output_type": "execute_result",
     "execution_count": 188
    }
   ],
   "source": [
    "doo[\"LS\"] = doo[\"LS\"].fillna(0)\n",
    "doo"
   ],
   "metadata": {
    "collapsed": false,
    "pycharm": {
     "name": "#%%\n",
     "is_executing": false
    }
   }
  },
  {
   "cell_type": "code",
   "execution_count": 63,
   "outputs": [],
   "source": [],
   "metadata": {
    "collapsed": false,
    "pycharm": {
     "name": "#%%\n",
     "is_executing": false
    }
   }
  },
  {
   "cell_type": "code",
   "execution_count": 101,
   "outputs": [
    {
     "data": {
      "text/plain": "            Birth Rate  Employment %  E delta  B delta            LS\n2011-09-01       474.0          65.5      0.1     59.0  3.802516e+07",
      "text/html": "<div>\n<style scoped>\n    .dataframe tbody tr th:only-of-type {\n        vertical-align: middle;\n    }\n\n    .dataframe tbody tr th {\n        vertical-align: top;\n    }\n\n    .dataframe thead th {\n        text-align: right;\n    }\n</style>\n<table border=\"1\" class=\"dataframe\">\n  <thead>\n    <tr style=\"text-align: right;\">\n      <th></th>\n      <th>Birth Rate</th>\n      <th>Employment %</th>\n      <th>E delta</th>\n      <th>B delta</th>\n      <th>LS</th>\n    </tr>\n  </thead>\n  <tbody>\n    <tr>\n      <td>2011-09-01</td>\n      <td>474.0</td>\n      <td>65.5</td>\n      <td>0.1</td>\n      <td>59.0</td>\n      <td>3.802516e+07</td>\n    </tr>\n  </tbody>\n</table>\n</div>"
     },
     "metadata": {},
     "output_type": "execute_result",
     "execution_count": 101
    }
   ],
   "source": [
    "\n",
    "doo[\"LS\"] = ((doo[\"E delta\"] - 61)/ doo[\"E delta\"].mean()) ** 2 \\\n",
    "            + ((doo[\"B delta\"] - 400)/doo[\"B delta\"].mean()) ** 2 \n",
    "doo[doo[\"LS\"] == doo[\"LS\"].min()]"
   ],
   "metadata": {
    "collapsed": false,
    "pycharm": {
     "name": "#%%\n",
     "is_executing": false
    }
   }
  },
  {
   "cell_type": "code",
   "execution_count": 100,
   "outputs": [
    {
     "data": {
      "text/plain": "            Birth Rate  Employment %  E delta  B delta  LS\n1978-03-01         NaN          61.1      0.0      NaN NaN\n1978-04-01         NaN          61.1      0.0      NaN NaN\n1978-05-01         NaN          61.1      0.0      NaN NaN\n1978-06-01         NaN          61.0     -0.1      NaN NaN\n1978-07-01         NaN          61.0      0.0      NaN NaN\n...                ...           ...      ...      ...  ..\n2019-02-01         NaN          65.7      0.0      NaN NaN\n2019-03-01         NaN          65.8      0.1      NaN NaN\n2019-04-01         NaN          65.9      0.1      NaN NaN\n2019-05-01         NaN          66.0      0.1      NaN NaN\n2019-06-01         NaN          66.0      0.0      NaN NaN\n\n[496 rows x 5 columns]",
      "text/html": "<div>\n<style scoped>\n    .dataframe tbody tr th:only-of-type {\n        vertical-align: middle;\n    }\n\n    .dataframe tbody tr th {\n        vertical-align: top;\n    }\n\n    .dataframe thead th {\n        text-align: right;\n    }\n</style>\n<table border=\"1\" class=\"dataframe\">\n  <thead>\n    <tr style=\"text-align: right;\">\n      <th></th>\n      <th>Birth Rate</th>\n      <th>Employment %</th>\n      <th>E delta</th>\n      <th>B delta</th>\n      <th>LS</th>\n    </tr>\n  </thead>\n  <tbody>\n    <tr>\n      <td>1978-03-01</td>\n      <td>NaN</td>\n      <td>61.1</td>\n      <td>0.0</td>\n      <td>NaN</td>\n      <td>NaN</td>\n    </tr>\n    <tr>\n      <td>1978-04-01</td>\n      <td>NaN</td>\n      <td>61.1</td>\n      <td>0.0</td>\n      <td>NaN</td>\n      <td>NaN</td>\n    </tr>\n    <tr>\n      <td>1978-05-01</td>\n      <td>NaN</td>\n      <td>61.1</td>\n      <td>0.0</td>\n      <td>NaN</td>\n      <td>NaN</td>\n    </tr>\n    <tr>\n      <td>1978-06-01</td>\n      <td>NaN</td>\n      <td>61.0</td>\n      <td>-0.1</td>\n      <td>NaN</td>\n      <td>NaN</td>\n    </tr>\n    <tr>\n      <td>1978-07-01</td>\n      <td>NaN</td>\n      <td>61.0</td>\n      <td>0.0</td>\n      <td>NaN</td>\n      <td>NaN</td>\n    </tr>\n    <tr>\n      <td>...</td>\n      <td>...</td>\n      <td>...</td>\n      <td>...</td>\n      <td>...</td>\n      <td>...</td>\n    </tr>\n    <tr>\n      <td>2019-02-01</td>\n      <td>NaN</td>\n      <td>65.7</td>\n      <td>0.0</td>\n      <td>NaN</td>\n      <td>NaN</td>\n    </tr>\n    <tr>\n      <td>2019-03-01</td>\n      <td>NaN</td>\n      <td>65.8</td>\n      <td>0.1</td>\n      <td>NaN</td>\n      <td>NaN</td>\n    </tr>\n    <tr>\n      <td>2019-04-01</td>\n      <td>NaN</td>\n      <td>65.9</td>\n      <td>0.1</td>\n      <td>NaN</td>\n      <td>NaN</td>\n    </tr>\n    <tr>\n      <td>2019-05-01</td>\n      <td>NaN</td>\n      <td>66.0</td>\n      <td>0.1</td>\n      <td>NaN</td>\n      <td>NaN</td>\n    </tr>\n    <tr>\n      <td>2019-06-01</td>\n      <td>NaN</td>\n      <td>66.0</td>\n      <td>0.0</td>\n      <td>NaN</td>\n      <td>NaN</td>\n    </tr>\n  </tbody>\n</table>\n<p>496 rows × 5 columns</p>\n</div>"
     },
     "metadata": {},
     "output_type": "execute_result",
     "execution_count": 100
    }
   ],
   "source": [
    "doo"
   ],
   "metadata": {
    "collapsed": false,
    "pycharm": {
     "name": "#%%\n",
     "is_executing": false
    }
   }
  },
  {
   "cell_type": "code",
   "execution_count": null,
   "outputs": [],
   "source": [
    "def dist(series, target):\n",
    "    return ((series - target[series.nam])/series.mean()) ** 2\n",
    "doo.apply(lambda :)"
   ],
   "metadata": {
    "collapsed": false,
    "pycharm": {
     "name": "#%%\n"
    }
   }
  },
  {
   "cell_type": "code",
   "execution_count": null,
   "outputs": [],
   "source": [
    "from typing import List\n",
    "\n",
    "pred = pd.DataFrame()\n",
    "\n",
    "class Month:\n",
    "    def __init__(self, y, z):\n",
    "        y: float = y\n",
    "        z: float = z\n",
    "    \n",
    "    # def distance(self, other: Month) -> float:\n",
    "    #     \n",
    "\n",
    "\n",
    "sep = Month(400, )\n",
    "\n",
    "\n",
    "\n",
    "new_state = Month()"
   ],
   "metadata": {
    "collapsed": false,
    "pycharm": {
     "name": "#%%\n"
    }
   }
  }
 ],
 "metadata": {
  "language_info": {
   "codemirror_mode": {
    "name": "ipython",
    "version": 2
   },
   "file_extension": ".py",
   "mimetype": "text/x-python",
   "name": "python",
   "nbconvert_exporter": "python",
   "pygments_lexer": "ipython2",
   "version": "2.7.6"
  },
  "kernelspec": {
   "name": "python3",
   "language": "python",
   "display_name": "Python 3"
  },
  "pycharm": {
   "stem_cell": {
    "cell_type": "raw",
    "source": [],
    "metadata": {
     "collapsed": false
    }
   }
  }
 },
 "nbformat": 4,
 "nbformat_minor": 0
}