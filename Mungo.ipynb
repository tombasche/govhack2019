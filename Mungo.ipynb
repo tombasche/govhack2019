{
 "cells": [
  {
   "cell_type": "code",
   "execution_count": 199,
   "metadata": {
    "collapsed": true,
    "pycharm": {
     "is_executing": false
    }
   },
   "outputs": [
    {
     "name": "stdout",
     "text": [
      "            Birth Rate\nMonth                 \n2006-01-01         390\n2006-02-01         364\n2006-03-01         417\n            Employment\nMonth                 \n1978-02-01        61.1\n1978-03-01        61.1\n1978-04-01        61.1\n"
     ],
     "output_type": "stream"
    }
   ],
   "source": [
    "import pandas as pd\n",
    "import math\n",
    "\n",
    "\n",
    "births = pd.read_csv(\"data/birth_data.csv\")\n",
    "births.columns = [\"Month\", \"Birth Rate\"]\n",
    "births.index = births[\"Month\"]\n",
    "births.drop(columns=[\"Month\"], inplace=True)\n",
    "\n",
    "\n",
    "jobs = pd.read_csv(\"data/Employment_no_SA.csv\")\n",
    "jobs = jobs.drop([\"Month.1\"], axis=1)\n",
    "jobs.index = jobs.Month\n",
    "jobs = jobs.drop([\"Month\"], axis=1)\n",
    "jobs.columns = [\"Employment\"]\n",
    "\n",
    "bus_rides = pd.read_csv(\"data/passengers_per_month.csv\")\n",
    "bus_rides.columns = [\"Month\", \"Avg Bus Utilization\"]\n",
    "bus_rides.index = bus_rides[\"Month\"]\n",
    "bus_rides.drop(columns=[\"Month\"], inplace=True)\n",
    "\n",
    "\n",
    "population = pd.read_csv(\"data/population_data.csv\")\n",
    "air = pd.read_csv(\"data/air_quality_data.csv\")\n",
    "air[\"DateTime\"] = pd.to_datetime(air[\"DateTime\"])\n",
    "air.set_index(\"DateTime\", inplace=True)\n",
    "\n",
    "air_month = pd.DataFrame(air.resample(\"BMS\").mean()[\"AQI_Site\"])\n",
    "air_month.columns = [\"AQI\"]\n",
    "air_month.index = pd.to_datetime(air_month.index)\n",
    "\n",
    "Serieses = [births, jobs]\n",
    "# Serieses = [births, jobs, bus_rides]\n",
    "for s in Serieses:\n",
    "    print(s.head(3))"
   ]
  },
  {
   "cell_type": "code",
   "execution_count": 200,
   "outputs": [
    {
     "name": "stderr",
     "text": [
      "/home/metaten/.virtualenvs/govhack/lib/python3.6/site-packages/ipykernel_launcher.py:3: FutureWarning: Sorting because non-concatenation axis is not aligned. A future version\nof pandas will change to not sort by default.\n\nTo accept the future behavior, pass 'sort=False'.\n\nTo retain the current behavior and silence the warning, pass 'sort=True'.\n\n  This is separate from the ipykernel package so we can avoid doing imports until\n"
     ],
     "output_type": "stream"
    }
   ],
   "source": [
    "series_names = [\"Employment\", \"Birth Rate\"]\n",
    "\n",
    "hist_data = pd.concat(Serieses, axis=1)\n",
    "hist_data.dropna(inplace=True)\n",
    "projection = pd.DataFrame(columns=hist_data.columns)\n",
    "for s_name in series_names:\n",
    "    hist_data[s_name + \" delta\"] = hist_data[s_name].diff()\n",
    "hist_data.drop(hist_data.head(1).index, inplace=True)\n",
    "hist_data.drop(hist_data.tail(1).index, inplace=True)"
   ],
   "metadata": {
    "collapsed": false,
    "pycharm": {
     "name": "#%%\n",
     "is_executing": false
    }
   }
  },
  {
   "cell_type": "code",
   "execution_count": 201,
   "outputs": [],
   "source": [
    "periods = 120\n",
    "pred = pd.date_range(hist_data.tail(1).index.values[0], periods=periods, freq='M')\n",
    "e_end: float = 70 \n",
    "e_start: float = 60\n",
    "def lerp(start, end, frac):\n",
    "    return start + ((end - start) * frac)\n",
    "\n",
    "def lerp_range(start, end, steps):\n",
    "    return [lerp(start, end, x/(steps -1)) for x in range(steps)]\n",
    "\n",
    "d = pd.DataFrame({\"Date\": pred, \"Employment\": lerp_range(e_start,e_end, periods)})"
   ],
   "metadata": {
    "collapsed": false,
    "pycharm": {
     "name": "#%%\n",
     "is_executing": false
    }
   }
  },
  {
   "cell_type": "code",
   "execution_count": 223,
   "outputs": [
    {
     "name": "stdout",
     "text": [
      "            Birth Rate  Employment  Employment delta  Birth Rate delta   LS\n2006-02-01       364.0        64.5               0.0             -26.0  0.0\n2006-03-01       417.0        64.5               0.0              53.0  0.0\n2006-04-01       374.0        64.6               0.1             -43.0  0.0\n2006-05-01       361.0        64.7               0.1             -13.0  0.0\n2006-06-01       360.0        64.8               0.1              -1.0  0.0\n...                ...         ...               ...               ...  ...\n2017-07-01       441.0        65.2               0.1              -1.0  0.0\n2017-08-01       439.0        65.2               0.0              -2.0  0.0\n2017-09-01       442.0        65.3               0.1               3.0  0.0\n2017-10-01       422.0        65.4               0.1             -20.0  0.0\n2017-11-01       350.0        60.0               0.0             -72.0  0.0\n\n[142 rows x 5 columns]\n            Birth Rate  Employment  Employment delta  Birth Rate delta  \\\n2006-02-01       364.0        64.5               0.0             -26.0   \n2006-03-01       417.0        64.5               0.0              53.0   \n2006-04-01       374.0        64.6               0.1             -43.0   \n2006-05-01       361.0        64.7               0.1             -13.0   \n2006-06-01       360.0        64.8               0.1              -1.0   \n...                ...         ...               ...               ...   \n2017-07-01       441.0        65.2               0.1              -1.0   \n2017-08-01       439.0        65.2               0.0              -2.0   \n2017-09-01       442.0        65.3               0.1               3.0   \n2017-10-01       422.0        65.4               0.1             -20.0   \n2017-11-01       350.0        60.0               0.0             -72.0   \n\n                      LS  \n2006-02-01  2.825444e+00  \n2006-03-01  2.086369e+01  \n2006-04-01  8.875370e+00  \n2006-05-01  1.240050e+01  \n2006-06-01  1.448353e+01  \n...                  ...  \n2017-07-01  1.448353e+01  \n2017-08-01  6.542853e+00  \n2017-09-01  1.526333e+01  \n2017-10-01  1.136299e+01  \n2017-11-01  2.000000e+09  \n\n[142 rows x 5 columns]\n            Birth Rate  Employment  Employment delta  Birth Rate delta  \\\n2017-11-01       350.0        60.0               0.0             -72.0   \n\n                      LS  \n2017-11-01  2.000000e+09  \n            Birth Rate  Employment  Employment delta  Birth Rate delta   LS\n2012-04-01       411.0        65.1               0.0             -72.0  0.0\n"
     ],
     "output_type": "stream"
    }
   ],
   "source": [
    "prev_row = hist_data.tail(1)\n",
    "predicted_series = \"Employment\"\n",
    "series_names = [\"Employment\", \"Birth Rate\"]\n",
    "\n",
    "for idx, row in d.iterrows():\n",
    "    diff = row[predicted_series] - prev_row[predicted_series].values[0]\n",
    "    new = pd.DataFrame(prev_row)\n",
    "    new[predicted_series] = row[predicted_series]\n",
    "    new.iloc[0][predicted_series + \" delta\"] = diff\n",
    "    hist_data[\"LS\"] = pd.Series()\n",
    "    hist_data[\"LS\"] = hist_data[\"LS\"].fillna(0)\n",
    "    print(hist_data)\n",
    "    for series in series_names:\n",
    "        hist_data[\"LS\"] += ((hist_data[series + \" delta\"] - new[series + \" delta\"].values[0])/\n",
    "                           hist_data[series + \" delta\"].abs().mean()) ** 2\n",
    "    hist_data.iloc[-1][\"LS\"] = 2000000000\n",
    "    least = hist_data[hist_data[\"LS\"] == hist_data[\"LS\"].min()]\n",
    "    print(hist_data)\n",
    "    print(new)\n",
    "    print(least)\n",
    "    # print(new)\n",
    "    break\n",
    "    \n",
    "    \n",
    "    # projection.append()"
   ],
   "metadata": {
    "collapsed": false,
    "pycharm": {
     "name": "#%%\n",
     "is_executing": false
    }
   }
  },
  {
   "cell_type": "code",
   "execution_count": 188,
   "outputs": [
    {
     "data": {
      "text/plain": "            Birth Rate  Employment  Employment delta  Birth Rate delta   LS\n2006-02-01       364.0        64.5               0.0             -26.0  0.0\n2006-03-01       417.0        64.5               0.0              53.0  0.0\n2006-04-01       374.0        64.6               0.1             -43.0  0.0\n2006-05-01       361.0        64.7               0.1             -13.0  0.0\n2006-06-01       360.0        64.8               0.1              -1.0  0.0\n...                ...         ...               ...               ...  ...\n2017-07-01       441.0        65.2               0.1              -1.0  0.0\n2017-08-01       439.0        65.2               0.0              -2.0  0.0\n2017-09-01       442.0        65.3               0.1               3.0  0.0\n2017-10-01       422.0        65.4               0.1             -20.0  0.0\n2017-11-01       350.0        65.5               0.1             -72.0  0.0\n\n[142 rows x 5 columns]",
      "text/html": "<div>\n<style scoped>\n    .dataframe tbody tr th:only-of-type {\n        vertical-align: middle;\n    }\n\n    .dataframe tbody tr th {\n        vertical-align: top;\n    }\n\n    .dataframe thead th {\n        text-align: right;\n    }\n</style>\n<table border=\"1\" class=\"dataframe\">\n  <thead>\n    <tr style=\"text-align: right;\">\n      <th></th>\n      <th>Birth Rate</th>\n      <th>Employment</th>\n      <th>Employment delta</th>\n      <th>Birth Rate delta</th>\n      <th>LS</th>\n    </tr>\n  </thead>\n  <tbody>\n    <tr>\n      <td>2006-02-01</td>\n      <td>364.0</td>\n      <td>64.5</td>\n      <td>0.0</td>\n      <td>-26.0</td>\n      <td>0.0</td>\n    </tr>\n    <tr>\n      <td>2006-03-01</td>\n      <td>417.0</td>\n      <td>64.5</td>\n      <td>0.0</td>\n      <td>53.0</td>\n      <td>0.0</td>\n    </tr>\n    <tr>\n      <td>2006-04-01</td>\n      <td>374.0</td>\n      <td>64.6</td>\n      <td>0.1</td>\n      <td>-43.0</td>\n      <td>0.0</td>\n    </tr>\n    <tr>\n      <td>2006-05-01</td>\n      <td>361.0</td>\n      <td>64.7</td>\n      <td>0.1</td>\n      <td>-13.0</td>\n      <td>0.0</td>\n    </tr>\n    <tr>\n      <td>2006-06-01</td>\n      <td>360.0</td>\n      <td>64.8</td>\n      <td>0.1</td>\n      <td>-1.0</td>\n      <td>0.0</td>\n    </tr>\n    <tr>\n      <td>...</td>\n      <td>...</td>\n      <td>...</td>\n      <td>...</td>\n      <td>...</td>\n      <td>...</td>\n    </tr>\n    <tr>\n      <td>2017-07-01</td>\n      <td>441.0</td>\n      <td>65.2</td>\n      <td>0.1</td>\n      <td>-1.0</td>\n      <td>0.0</td>\n    </tr>\n    <tr>\n      <td>2017-08-01</td>\n      <td>439.0</td>\n      <td>65.2</td>\n      <td>0.0</td>\n      <td>-2.0</td>\n      <td>0.0</td>\n    </tr>\n    <tr>\n      <td>2017-09-01</td>\n      <td>442.0</td>\n      <td>65.3</td>\n      <td>0.1</td>\n      <td>3.0</td>\n      <td>0.0</td>\n    </tr>\n    <tr>\n      <td>2017-10-01</td>\n      <td>422.0</td>\n      <td>65.4</td>\n      <td>0.1</td>\n      <td>-20.0</td>\n      <td>0.0</td>\n    </tr>\n    <tr>\n      <td>2017-11-01</td>\n      <td>350.0</td>\n      <td>65.5</td>\n      <td>0.1</td>\n      <td>-72.0</td>\n      <td>0.0</td>\n    </tr>\n  </tbody>\n</table>\n<p>142 rows × 5 columns</p>\n</div>"
     },
     "metadata": {},
     "output_type": "execute_result",
     "execution_count": 188
    }
   ],
   "source": [
    "doo[\"LS\"] = doo[\"LS\"].fillna(0)\n",
    "doo"
   ],
   "metadata": {
    "collapsed": false,
    "pycharm": {
     "name": "#%%\n",
     "is_executing": false
    }
   }
  },
  {
   "cell_type": "code",
   "execution_count": 63,
   "outputs": [],
   "source": [],
   "metadata": {
    "collapsed": false,
    "pycharm": {
     "name": "#%%\n",
     "is_executing": false
    }
   }
  },
  {
   "cell_type": "code",
   "execution_count": 101,
   "outputs": [
    {
     "data": {
      "text/plain": "            Birth Rate  Employment %  E delta  B delta            LS\n2011-09-01       474.0          65.5      0.1     59.0  3.802516e+07",
      "text/html": "<div>\n<style scoped>\n    .dataframe tbody tr th:only-of-type {\n        vertical-align: middle;\n    }\n\n    .dataframe tbody tr th {\n        vertical-align: top;\n    }\n\n    .dataframe thead th {\n        text-align: right;\n    }\n</style>\n<table border=\"1\" class=\"dataframe\">\n  <thead>\n    <tr style=\"text-align: right;\">\n      <th></th>\n      <th>Birth Rate</th>\n      <th>Employment %</th>\n      <th>E delta</th>\n      <th>B delta</th>\n      <th>LS</th>\n    </tr>\n  </thead>\n  <tbody>\n    <tr>\n      <td>2011-09-01</td>\n      <td>474.0</td>\n      <td>65.5</td>\n      <td>0.1</td>\n      <td>59.0</td>\n      <td>3.802516e+07</td>\n    </tr>\n  </tbody>\n</table>\n</div>"
     },
     "metadata": {},
     "output_type": "execute_result",
     "execution_count": 101
    }
   ],
   "source": [
    "\n",
    "doo[\"LS\"] = ((doo[\"E delta\"] - 61)/ doo[\"E delta\"].mean()) ** 2 \\\n",
    "            + ((doo[\"B delta\"] - 400)/doo[\"B delta\"].mean()) ** 2 \n",
    "doo[doo[\"LS\"] == doo[\"LS\"].min()]"
   ],
   "metadata": {
    "collapsed": false,
    "pycharm": {
     "name": "#%%\n",
     "is_executing": false
    }
   }
  },
  {
   "cell_type": "code",
   "execution_count": 100,
   "outputs": [
    {
     "data": {
      "text/plain": "            Birth Rate  Employment %  E delta  B delta  LS\n1978-03-01         NaN          61.1      0.0      NaN NaN\n1978-04-01         NaN          61.1      0.0      NaN NaN\n1978-05-01         NaN          61.1      0.0      NaN NaN\n1978-06-01         NaN          61.0     -0.1      NaN NaN\n1978-07-01         NaN          61.0      0.0      NaN NaN\n...                ...           ...      ...      ...  ..\n2019-02-01         NaN          65.7      0.0      NaN NaN\n2019-03-01         NaN          65.8      0.1      NaN NaN\n2019-04-01         NaN          65.9      0.1      NaN NaN\n2019-05-01         NaN          66.0      0.1      NaN NaN\n2019-06-01         NaN          66.0      0.0      NaN NaN\n\n[496 rows x 5 columns]",
      "text/html": "<div>\n<style scoped>\n    .dataframe tbody tr th:only-of-type {\n        vertical-align: middle;\n    }\n\n    .dataframe tbody tr th {\n        vertical-align: top;\n    }\n\n    .dataframe thead th {\n        text-align: right;\n    }\n</style>\n<table border=\"1\" class=\"dataframe\">\n  <thead>\n    <tr style=\"text-align: right;\">\n      <th></th>\n      <th>Birth Rate</th>\n      <th>Employment %</th>\n      <th>E delta</th>\n      <th>B delta</th>\n      <th>LS</th>\n    </tr>\n  </thead>\n  <tbody>\n    <tr>\n      <td>1978-03-01</td>\n      <td>NaN</td>\n      <td>61.1</td>\n      <td>0.0</td>\n      <td>NaN</td>\n      <td>NaN</td>\n    </tr>\n    <tr>\n      <td>1978-04-01</td>\n      <td>NaN</td>\n      <td>61.1</td>\n      <td>0.0</td>\n      <td>NaN</td>\n      <td>NaN</td>\n    </tr>\n    <tr>\n      <td>1978-05-01</td>\n      <td>NaN</td>\n      <td>61.1</td>\n      <td>0.0</td>\n      <td>NaN</td>\n      <td>NaN</td>\n    </tr>\n    <tr>\n      <td>1978-06-01</td>\n      <td>NaN</td>\n      <td>61.0</td>\n      <td>-0.1</td>\n      <td>NaN</td>\n      <td>NaN</td>\n    </tr>\n    <tr>\n      <td>1978-07-01</td>\n      <td>NaN</td>\n      <td>61.0</td>\n      <td>0.0</td>\n      <td>NaN</td>\n      <td>NaN</td>\n    </tr>\n    <tr>\n      <td>...</td>\n      <td>...</td>\n      <td>...</td>\n      <td>...</td>\n      <td>...</td>\n      <td>...</td>\n    </tr>\n    <tr>\n      <td>2019-02-01</td>\n      <td>NaN</td>\n      <td>65.7</td>\n      <td>0.0</td>\n      <td>NaN</td>\n      <td>NaN</td>\n    </tr>\n    <tr>\n      <td>2019-03-01</td>\n      <td>NaN</td>\n      <td>65.8</td>\n      <td>0.1</td>\n      <td>NaN</td>\n      <td>NaN</td>\n    </tr>\n    <tr>\n      <td>2019-04-01</td>\n      <td>NaN</td>\n      <td>65.9</td>\n      <td>0.1</td>\n      <td>NaN</td>\n      <td>NaN</td>\n    </tr>\n    <tr>\n      <td>2019-05-01</td>\n      <td>NaN</td>\n      <td>66.0</td>\n      <td>0.1</td>\n      <td>NaN</td>\n      <td>NaN</td>\n    </tr>\n    <tr>\n      <td>2019-06-01</td>\n      <td>NaN</td>\n      <td>66.0</td>\n      <td>0.0</td>\n      <td>NaN</td>\n      <td>NaN</td>\n    </tr>\n  </tbody>\n</table>\n<p>496 rows × 5 columns</p>\n</div>"
     },
     "metadata": {},
     "output_type": "execute_result",
     "execution_count": 100
    }
   ],
   "source": [
    "doo"
   ],
   "metadata": {
    "collapsed": false,
    "pycharm": {
     "name": "#%%\n",
     "is_executing": false
    }
   }
  },
  {
   "cell_type": "code",
   "execution_count": null,
   "outputs": [],
   "source": [
    "def dist(series, target):\n",
    "    return ((series - target[series.nam])/series.mean()) ** 2\n",
    "doo.apply(lambda :)"
   ],
   "metadata": {
    "collapsed": false,
    "pycharm": {
     "name": "#%%\n"
    }
   }
  },
  {
   "cell_type": "code",
   "execution_count": null,
   "outputs": [],
   "source": [
    "from typing import List\n",
    "\n",
    "pred = pd.DataFrame()\n",
    "\n",
    "class Month:\n",
    "    def __init__(self, y, z):\n",
    "        y: float = y\n",
    "        z: float = z\n",
    "    \n",
    "    # def distance(self, other: Month) -> float:\n",
    "    #     \n",
    "\n",
    "\n",
    "sep = Month(400, )\n",
    "\n",
    "\n",
    "\n",
    "new_state = Month()"
   ],
   "metadata": {
    "collapsed": false,
    "pycharm": {
     "name": "#%%\n"
    }
   }
  }
 ],
 "metadata": {
  "language_info": {
   "codemirror_mode": {
    "name": "ipython",
    "version": 2
   },
   "file_extension": ".py",
   "mimetype": "text/x-python",
   "name": "python",
   "nbconvert_exporter": "python",
   "pygments_lexer": "ipython2",
   "version": "2.7.6"
  },
  "kernelspec": {
   "name": "python3",
   "language": "python",
   "display_name": "Python 3"
  },
  "pycharm": {
   "stem_cell": {
    "cell_type": "raw",
    "source": [],
    "metadata": {
     "collapsed": false
    }
   }
  }
 },
 "nbformat": 4,
 "nbformat_minor": 0
}