{
 "cells": [
  {
   "cell_type": "code",
   "execution_count": 47,
   "metadata": {
    "collapsed": true,
    "pycharm": {
     "is_executing": false
    }
   },
   "outputs": [
    {
     "name": "stdout",
     "text": [
      "            Birth Rate\nMonth                 \n2006-01-01         390\n2006-02-01         364\n2006-03-01         417\n            Employment %\nMonth                   \n1978-02-01          61.1\n1978-03-01          61.1\n1978-04-01          61.1\n"
     ],
     "output_type": "stream"
    }
   ],
   "source": [
    "import pandas as pd\n",
    "import math\n",
    "\n",
    "\n",
    "births = pd.read_csv(\"data/birth_data.csv\")\n",
    "births.columns = [\"Month\", \"Birth Rate\"]\n",
    "births.index = births[\"Month\"]\n",
    "births.drop(columns=[\"Month\"], inplace=True)\n",
    "\n",
    "\n",
    "jobs = pd.read_csv(\"data/Employment_no_SA.csv\")\n",
    "jobs = jobs.drop([\"Month.1\"], axis=1)\n",
    "jobs.index = jobs.Month\n",
    "jobs = jobs.drop([\"Month\"], axis=1)\n",
    "jobs.columns = [\"Employment %\"]\n",
    "\n",
    "bus_rides = pd.read_csv(\"data/passengers_per_month.csv\")\n",
    "bus_rides.columns = [\"Month\", \"Avg Bus Utilization\"]\n",
    "bus_rides.index = bus_rides[\"Month\"]\n",
    "bus_rides.drop(columns=[\"Month\"], inplace=True)\n",
    "\n",
    "\n",
    "population = pd.read_csv(\"data/population_data.csv\")\n",
    "air = pd.read_csv(\"data/air_quality_data.csv\")\n",
    "air[\"DateTime\"] = pd.to_datetime(air[\"DateTime\"])\n",
    "air.set_index(\"DateTime\", inplace=True)\n",
    "\n",
    "air_month = pd.DataFrame(air.resample(\"BMS\").mean()[\"AQI_Site\"])\n",
    "air_month.columns = [\"AQI\"]\n",
    "air_month.index = pd.to_datetime(air_month.index)\n",
    "\n",
    "Serieses = [births, jobs]\n",
    "# Serieses = [births, jobs, bus_rides]\n",
    "for s in Serieses:\n",
    "    print(s.head(3))\n"
   ]
  },
  {
   "cell_type": "code",
   "execution_count": 120,
   "outputs": [
    {
     "name": "stderr",
     "text": [
      "/home/metaten/.virtualenvs/govhack/lib/python3.6/site-packages/ipykernel_launcher.py:3: FutureWarning: Sorting because non-concatenation axis is not aligned. A future version\nof pandas will change to not sort by default.\n\nTo accept the future behavior, pass 'sort=False'.\n\nTo retain the current behavior and silence the warning, pass 'sort=True'.\n\n  This is separate from the ipykernel package so we can avoid doing imports until\n"
     ],
     "output_type": "stream"
    }
   ],
   "source": [
    "series_names = [\"Employment %\", \"Birth Rate\"]\n",
    "\n",
    "doo = pd.concat(Serieses, axis=1)\n",
    "doo.dropna(inplace=True)\n",
    "projection = pd.DataFrame(columns=doo.columns)\n",
    "for s_name in series_names:\n",
    "    doo[s_name + \" delta\"] = doo[s_name].diff()\n",
    "doo.drop(doo.head(1).index, inplace=True)\n",
    "doo.drop(doo.tail(1).index, inplace=True)"
   ],
   "metadata": {
    "collapsed": false,
    "pycharm": {
     "name": "#%%\n",
     "is_executing": false
    }
   }
  },
  {
   "cell_type": "code",
   "execution_count": 103,
   "outputs": [],
   "source": [
    "periods = 120\n",
    "pred = pd.date_range(doo.tail(1).index.values[0], periods=periods, freq='M')\n",
    "e_end: float = 70 \n",
    "e_start: float = 60\n",
    "def lerp(start, end, frac):\n",
    "    return start + ((end - start) * frac)\n",
    "\n",
    "def lerp_range(start, end, steps):\n",
    "    return [lerp(start, end, x/(steps -1)) for x in range(steps)]\n",
    "\n",
    "d = pd.DataFrame({\"Date\": pred, \"Employment\": lerp_range(e_start,e_end, periods)})"
   ],
   "metadata": {
    "collapsed": false,
    "pycharm": {
     "name": "#%%\n",
     "is_executing": false
    }
   }
  },
  {
   "cell_type": "code",
   "execution_count": 114,
   "outputs": [
    {
     "data": {
      "text/plain": "          Date  Employment\n0   2017-11-30   60.000000\n1   2017-12-31   60.084034\n2   2018-01-31   60.168067\n3   2018-02-28   60.252101\n4   2018-03-31   60.336134\n..         ...         ...\n115 2027-06-30   69.663866\n116 2027-07-31   69.747899\n117 2027-08-31   69.831933\n118 2027-09-30   69.915966\n119 2027-10-31   70.000000\n\n[120 rows x 2 columns]",
      "text/html": "<div>\n<style scoped>\n    .dataframe tbody tr th:only-of-type {\n        vertical-align: middle;\n    }\n\n    .dataframe tbody tr th {\n        vertical-align: top;\n    }\n\n    .dataframe thead th {\n        text-align: right;\n    }\n</style>\n<table border=\"1\" class=\"dataframe\">\n  <thead>\n    <tr style=\"text-align: right;\">\n      <th></th>\n      <th>Date</th>\n      <th>Employment</th>\n    </tr>\n  </thead>\n  <tbody>\n    <tr>\n      <td>0</td>\n      <td>2017-11-30</td>\n      <td>60.000000</td>\n    </tr>\n    <tr>\n      <td>1</td>\n      <td>2017-12-31</td>\n      <td>60.084034</td>\n    </tr>\n    <tr>\n      <td>2</td>\n      <td>2018-01-31</td>\n      <td>60.168067</td>\n    </tr>\n    <tr>\n      <td>3</td>\n      <td>2018-02-28</td>\n      <td>60.252101</td>\n    </tr>\n    <tr>\n      <td>4</td>\n      <td>2018-03-31</td>\n      <td>60.336134</td>\n    </tr>\n    <tr>\n      <td>...</td>\n      <td>...</td>\n      <td>...</td>\n    </tr>\n    <tr>\n      <td>115</td>\n      <td>2027-06-30</td>\n      <td>69.663866</td>\n    </tr>\n    <tr>\n      <td>116</td>\n      <td>2027-07-31</td>\n      <td>69.747899</td>\n    </tr>\n    <tr>\n      <td>117</td>\n      <td>2027-08-31</td>\n      <td>69.831933</td>\n    </tr>\n    <tr>\n      <td>118</td>\n      <td>2027-09-30</td>\n      <td>69.915966</td>\n    </tr>\n    <tr>\n      <td>119</td>\n      <td>2027-10-31</td>\n      <td>70.000000</td>\n    </tr>\n  </tbody>\n</table>\n<p>120 rows × 2 columns</p>\n</div>"
     },
     "metadata": {},
     "output_type": "execute_result",
     "execution_count": 114
    }
   ],
   "source": [
    "d"
   ],
   "metadata": {
    "collapsed": false,
    "pycharm": {
     "name": "#%%\n",
     "is_executing": false
    }
   }
  },
  {
   "cell_type": "code",
   "execution_count": 119,
   "outputs": [
    {
     "name": "stdout",
     "text": [
      "(0, Date          2017-11-30 00:00:00\nEmployment                     60\nName: 0, dtype: object)\n(1, Date          2017-12-31 00:00:00\nEmployment                 60.084\nName: 1, dtype: object)\n(2, Date          2018-01-31 00:00:00\nEmployment                60.1681\nName: 2, dtype: object)\n(3, Date          2018-02-28 00:00:00\nEmployment                60.2521\nName: 3, dtype: object)\n(4, Date          2018-03-31 00:00:00\nEmployment                60.3361\nName: 4, dtype: object)\n(5, Date          2018-04-30 00:00:00\nEmployment                60.4202\nName: 5, dtype: object)\n(6, Date          2018-05-31 00:00:00\nEmployment                60.5042\nName: 6, dtype: object)\n(7, Date          2018-06-30 00:00:00\nEmployment                60.5882\nName: 7, dtype: object)\n(8, Date          2018-07-31 00:00:00\nEmployment                60.6723\nName: 8, dtype: object)\n(9, Date          2018-08-31 00:00:00\nEmployment                60.7563\nName: 9, dtype: object)\n(10, Date          2018-09-30 00:00:00\nEmployment                60.8403\nName: 10, dtype: object)\n(11, Date          2018-10-31 00:00:00\nEmployment                60.9244\nName: 11, dtype: object)\n(12, Date          2018-11-30 00:00:00\nEmployment                61.0084\nName: 12, dtype: object)\n(13, Date          2018-12-31 00:00:00\nEmployment                61.0924\nName: 13, dtype: object)\n(14, Date          2019-01-31 00:00:00\nEmployment                61.1765\nName: 14, dtype: object)\n(15, Date          2019-02-28 00:00:00\nEmployment                61.2605\nName: 15, dtype: object)\n(16, Date          2019-03-31 00:00:00\nEmployment                61.3445\nName: 16, dtype: object)\n(17, Date          2019-04-30 00:00:00\nEmployment                61.4286\nName: 17, dtype: object)\n(18, Date          2019-05-31 00:00:00\nEmployment                61.5126\nName: 18, dtype: object)\n(19, Date          2019-06-30 00:00:00\nEmployment                61.5966\nName: 19, dtype: object)\n(20, Date          2019-07-31 00:00:00\nEmployment                61.6807\nName: 20, dtype: object)\n(21, Date          2019-08-31 00:00:00\nEmployment                61.7647\nName: 21, dtype: object)\n(22, Date          2019-09-30 00:00:00\nEmployment                61.8487\nName: 22, dtype: object)\n(23, Date          2019-10-31 00:00:00\nEmployment                61.9328\nName: 23, dtype: object)\n(24, Date          2019-11-30 00:00:00\nEmployment                62.0168\nName: 24, dtype: object)\n(25, Date          2019-12-31 00:00:00\nEmployment                62.1008\nName: 25, dtype: object)\n(26, Date          2020-01-31 00:00:00\nEmployment                62.1849\nName: 26, dtype: object)\n(27, Date          2020-02-29 00:00:00\nEmployment                62.2689\nName: 27, dtype: object)\n(28, Date          2020-03-31 00:00:00\nEmployment                62.3529\nName: 28, dtype: object)\n(29, Date          2020-04-30 00:00:00\nEmployment                 62.437\nName: 29, dtype: object)\n(30, Date          2020-05-31 00:00:00\nEmployment                 62.521\nName: 30, dtype: object)\n(31, Date          2020-06-30 00:00:00\nEmployment                 62.605\nName: 31, dtype: object)\n(32, Date          2020-07-31 00:00:00\nEmployment                62.6891\nName: 32, dtype: object)\n(33, Date          2020-08-31 00:00:00\nEmployment                62.7731\nName: 33, dtype: object)\n(34, Date          2020-09-30 00:00:00\nEmployment                62.8571\nName: 34, dtype: object)\n(35, Date          2020-10-31 00:00:00\nEmployment                62.9412\nName: 35, dtype: object)\n(36, Date          2020-11-30 00:00:00\nEmployment                63.0252\nName: 36, dtype: object)\n(37, Date          2020-12-31 00:00:00\nEmployment                63.1092\nName: 37, dtype: object)\n(38, Date          2021-01-31 00:00:00\nEmployment                63.1933\nName: 38, dtype: object)\n(39, Date          2021-02-28 00:00:00\nEmployment                63.2773\nName: 39, dtype: object)\n(40, Date          2021-03-31 00:00:00\nEmployment                63.3613\nName: 40, dtype: object)\n(41, Date          2021-04-30 00:00:00\nEmployment                63.4454\nName: 41, dtype: object)\n(42, Date          2021-05-31 00:00:00\nEmployment                63.5294\nName: 42, dtype: object)\n(43, Date          2021-06-30 00:00:00\nEmployment                63.6134\nName: 43, dtype: object)\n(44, Date          2021-07-31 00:00:00\nEmployment                63.6975\nName: 44, dtype: object)\n(45, Date          2021-08-31 00:00:00\nEmployment                63.7815\nName: 45, dtype: object)\n(46, Date          2021-09-30 00:00:00\nEmployment                63.8655\nName: 46, dtype: object)\n(47, Date          2021-10-31 00:00:00\nEmployment                63.9496\nName: 47, dtype: object)\n(48, Date          2021-11-30 00:00:00\nEmployment                64.0336\nName: 48, dtype: object)\n(49, Date          2021-12-31 00:00:00\nEmployment                64.1176\nName: 49, dtype: object)\n(50, Date          2022-01-31 00:00:00\nEmployment                64.2017\nName: 50, dtype: object)\n(51, Date          2022-02-28 00:00:00\nEmployment                64.2857\nName: 51, dtype: object)\n(52, Date          2022-03-31 00:00:00\nEmployment                64.3697\nName: 52, dtype: object)\n(53, Date          2022-04-30 00:00:00\nEmployment                64.4538\nName: 53, dtype: object)\n(54, Date          2022-05-31 00:00:00\nEmployment                64.5378\nName: 54, dtype: object)\n(55, Date          2022-06-30 00:00:00\nEmployment                64.6218\nName: 55, dtype: object)\n(56, Date          2022-07-31 00:00:00\nEmployment                64.7059\nName: 56, dtype: object)\n(57, Date          2022-08-31 00:00:00\nEmployment                64.7899\nName: 57, dtype: object)\n(58, Date          2022-09-30 00:00:00\nEmployment                64.8739\nName: 58, dtype: object)\n(59, Date          2022-10-31 00:00:00\nEmployment                 64.958\nName: 59, dtype: object)\n(60, Date          2022-11-30 00:00:00\nEmployment                 65.042\nName: 60, dtype: object)\n(61, Date          2022-12-31 00:00:00\nEmployment                65.1261\nName: 61, dtype: object)\n(62, Date          2023-01-31 00:00:00\nEmployment                65.2101\nName: 62, dtype: object)\n(63, Date          2023-02-28 00:00:00\nEmployment                65.2941\nName: 63, dtype: object)\n(64, Date          2023-03-31 00:00:00\nEmployment                65.3782\nName: 64, dtype: object)\n(65, Date          2023-04-30 00:00:00\nEmployment                65.4622\nName: 65, dtype: object)\n(66, Date          2023-05-31 00:00:00\nEmployment                65.5462\nName: 66, dtype: object)\n(67, Date          2023-06-30 00:00:00\nEmployment                65.6303\nName: 67, dtype: object)\n(68, Date          2023-07-31 00:00:00\nEmployment                65.7143\nName: 68, dtype: object)\n(69, Date          2023-08-31 00:00:00\nEmployment                65.7983\nName: 69, dtype: object)\n(70, Date          2023-09-30 00:00:00\nEmployment                65.8824\nName: 70, dtype: object)\n(71, Date          2023-10-31 00:00:00\nEmployment                65.9664\nName: 71, dtype: object)\n(72, Date          2023-11-30 00:00:00\nEmployment                66.0504\nName: 72, dtype: object)\n(73, Date          2023-12-31 00:00:00\nEmployment                66.1345\nName: 73, dtype: object)\n(74, Date          2024-01-31 00:00:00\nEmployment                66.2185\nName: 74, dtype: object)\n(75, Date          2024-02-29 00:00:00\nEmployment                66.3025\nName: 75, dtype: object)\n(76, Date          2024-03-31 00:00:00\nEmployment                66.3866\nName: 76, dtype: object)\n(77, Date          2024-04-30 00:00:00\nEmployment                66.4706\nName: 77, dtype: object)\n(78, Date          2024-05-31 00:00:00\nEmployment                66.5546\nName: 78, dtype: object)\n(79, Date          2024-06-30 00:00:00\nEmployment                66.6387\nName: 79, dtype: object)\n(80, Date          2024-07-31 00:00:00\nEmployment                66.7227\nName: 80, dtype: object)\n(81, Date          2024-08-31 00:00:00\nEmployment                66.8067\nName: 81, dtype: object)\n(82, Date          2024-09-30 00:00:00\nEmployment                66.8908\nName: 82, dtype: object)\n(83, Date          2024-10-31 00:00:00\nEmployment                66.9748\nName: 83, dtype: object)\n(84, Date          2024-11-30 00:00:00\nEmployment                67.0588\nName: 84, dtype: object)\n(85, Date          2024-12-31 00:00:00\nEmployment                67.1429\nName: 85, dtype: object)\n(86, Date          2025-01-31 00:00:00\nEmployment                67.2269\nName: 86, dtype: object)\n(87, Date          2025-02-28 00:00:00\nEmployment                67.3109\nName: 87, dtype: object)\n(88, Date          2025-03-31 00:00:00\nEmployment                 67.395\nName: 88, dtype: object)\n(89, Date          2025-04-30 00:00:00\nEmployment                 67.479\nName: 89, dtype: object)\n(90, Date          2025-05-31 00:00:00\nEmployment                 67.563\nName: 90, dtype: object)\n(91, Date          2025-06-30 00:00:00\nEmployment                67.6471\nName: 91, dtype: object)\n(92, Date          2025-07-31 00:00:00\nEmployment                67.7311\nName: 92, dtype: object)\n(93, Date          2025-08-31 00:00:00\nEmployment                67.8151\nName: 93, dtype: object)\n(94, Date          2025-09-30 00:00:00\nEmployment                67.8992\nName: 94, dtype: object)\n(95, Date          2025-10-31 00:00:00\nEmployment                67.9832\nName: 95, dtype: object)\n(96, Date          2025-11-30 00:00:00\nEmployment                68.0672\nName: 96, dtype: object)\n(97, Date          2025-12-31 00:00:00\nEmployment                68.1513\nName: 97, dtype: object)\n(98, Date          2026-01-31 00:00:00\nEmployment                68.2353\nName: 98, dtype: object)\n(99, Date          2026-02-28 00:00:00\nEmployment                68.3193\nName: 99, dtype: object)\n(100, Date          2026-03-31 00:00:00\nEmployment                68.4034\nName: 100, dtype: object)\n(101, Date          2026-04-30 00:00:00\nEmployment                68.4874\nName: 101, dtype: object)\n(102, Date          2026-05-31 00:00:00\nEmployment                68.5714\nName: 102, dtype: object)\n(103, Date          2026-06-30 00:00:00\nEmployment                68.6555\nName: 103, dtype: object)\n(104, Date          2026-07-31 00:00:00\nEmployment                68.7395\nName: 104, dtype: object)\n(105, Date          2026-08-31 00:00:00\nEmployment                68.8235\nName: 105, dtype: object)\n(106, Date          2026-09-30 00:00:00\nEmployment                68.9076\nName: 106, dtype: object)\n(107, Date          2026-10-31 00:00:00\nEmployment                68.9916\nName: 107, dtype: object)\n(108, Date          2026-11-30 00:00:00\nEmployment                69.0756\nName: 108, dtype: object)\n(109, Date          2026-12-31 00:00:00\nEmployment                69.1597\nName: 109, dtype: object)\n(110, Date          2027-01-31 00:00:00\nEmployment                69.2437\nName: 110, dtype: object)\n(111, Date          2027-02-28 00:00:00\nEmployment                69.3277\nName: 111, dtype: object)\n(112, Date          2027-03-31 00:00:00\nEmployment                69.4118\nName: 112, dtype: object)\n(113, Date          2027-04-30 00:00:00\nEmployment                69.4958\nName: 113, dtype: object)\n(114, Date          2027-05-31 00:00:00\nEmployment                69.5798\nName: 114, dtype: object)\n(115, Date          2027-06-30 00:00:00\nEmployment                69.6639\nName: 115, dtype: object)\n(116, Date          2027-07-31 00:00:00\nEmployment                69.7479\nName: 116, dtype: object)\n(117, Date          2027-08-31 00:00:00\nEmployment                69.8319\nName: 117, dtype: object)\n(118, Date          2027-09-30 00:00:00\nEmployment                 69.916\nName: 118, dtype: object)\n(119, Date          2027-10-31 00:00:00\nEmployment                     70\nName: 119, dtype: object)\n"
     ],
     "output_type": "stream"
    }
   ],
   "source": [
    "last = doo.tail(1)\n",
    "predicted_series = \"Employment %\"\n",
    "series_names = [\"Employment %\", \"Birth Rate\"]\n",
    "\n",
    "for row in d.iterrows():\n",
    "    print(row)\n",
    "    diff = last[predicted_series] - row[predicted_series]\n",
    "    doo[\"LS\"] = ((doo[predicted_series] - diff)/ doo[predicted_series].mean()) ** 2\n",
    "    doo[doo[\"LS\"] == doo[\"LS\"].min()]\n",
    "    \n",
    "    \n",
    "    \n",
    "    \n",
    "    # projection.append()"
   ],
   "metadata": {
    "collapsed": false,
    "pycharm": {
     "name": "#%%\n",
     "is_executing": false
    }
   }
  },
  {
   "cell_type": "code",
   "execution_count": 63,
   "outputs": [],
   "source": [],
   "metadata": {
    "collapsed": false,
    "pycharm": {
     "name": "#%%\n",
     "is_executing": false
    }
   }
  },
  {
   "cell_type": "code",
   "execution_count": 101,
   "outputs": [
    {
     "data": {
      "text/plain": "            Birth Rate  Employment %  E delta  B delta            LS\n2011-09-01       474.0          65.5      0.1     59.0  3.802516e+07",
      "text/html": "<div>\n<style scoped>\n    .dataframe tbody tr th:only-of-type {\n        vertical-align: middle;\n    }\n\n    .dataframe tbody tr th {\n        vertical-align: top;\n    }\n\n    .dataframe thead th {\n        text-align: right;\n    }\n</style>\n<table border=\"1\" class=\"dataframe\">\n  <thead>\n    <tr style=\"text-align: right;\">\n      <th></th>\n      <th>Birth Rate</th>\n      <th>Employment %</th>\n      <th>E delta</th>\n      <th>B delta</th>\n      <th>LS</th>\n    </tr>\n  </thead>\n  <tbody>\n    <tr>\n      <td>2011-09-01</td>\n      <td>474.0</td>\n      <td>65.5</td>\n      <td>0.1</td>\n      <td>59.0</td>\n      <td>3.802516e+07</td>\n    </tr>\n  </tbody>\n</table>\n</div>"
     },
     "metadata": {},
     "output_type": "execute_result",
     "execution_count": 101
    }
   ],
   "source": [
    "\n",
    "doo[\"LS\"] = ((doo[\"E delta\"] - 61)/ doo[\"E delta\"].mean()) ** 2 \\\n",
    "            + ((doo[\"B delta\"] - 400)/doo[\"B delta\"].mean()) ** 2 \n",
    "doo[doo[\"LS\"] == doo[\"LS\"].min()]"
   ],
   "metadata": {
    "collapsed": false,
    "pycharm": {
     "name": "#%%\n",
     "is_executing": false
    }
   }
  },
  {
   "cell_type": "code",
   "execution_count": 100,
   "outputs": [
    {
     "data": {
      "text/plain": "            Birth Rate  Employment %  E delta  B delta  LS\n1978-03-01         NaN          61.1      0.0      NaN NaN\n1978-04-01         NaN          61.1      0.0      NaN NaN\n1978-05-01         NaN          61.1      0.0      NaN NaN\n1978-06-01         NaN          61.0     -0.1      NaN NaN\n1978-07-01         NaN          61.0      0.0      NaN NaN\n...                ...           ...      ...      ...  ..\n2019-02-01         NaN          65.7      0.0      NaN NaN\n2019-03-01         NaN          65.8      0.1      NaN NaN\n2019-04-01         NaN          65.9      0.1      NaN NaN\n2019-05-01         NaN          66.0      0.1      NaN NaN\n2019-06-01         NaN          66.0      0.0      NaN NaN\n\n[496 rows x 5 columns]",
      "text/html": "<div>\n<style scoped>\n    .dataframe tbody tr th:only-of-type {\n        vertical-align: middle;\n    }\n\n    .dataframe tbody tr th {\n        vertical-align: top;\n    }\n\n    .dataframe thead th {\n        text-align: right;\n    }\n</style>\n<table border=\"1\" class=\"dataframe\">\n  <thead>\n    <tr style=\"text-align: right;\">\n      <th></th>\n      <th>Birth Rate</th>\n      <th>Employment %</th>\n      <th>E delta</th>\n      <th>B delta</th>\n      <th>LS</th>\n    </tr>\n  </thead>\n  <tbody>\n    <tr>\n      <td>1978-03-01</td>\n      <td>NaN</td>\n      <td>61.1</td>\n      <td>0.0</td>\n      <td>NaN</td>\n      <td>NaN</td>\n    </tr>\n    <tr>\n      <td>1978-04-01</td>\n      <td>NaN</td>\n      <td>61.1</td>\n      <td>0.0</td>\n      <td>NaN</td>\n      <td>NaN</td>\n    </tr>\n    <tr>\n      <td>1978-05-01</td>\n      <td>NaN</td>\n      <td>61.1</td>\n      <td>0.0</td>\n      <td>NaN</td>\n      <td>NaN</td>\n    </tr>\n    <tr>\n      <td>1978-06-01</td>\n      <td>NaN</td>\n      <td>61.0</td>\n      <td>-0.1</td>\n      <td>NaN</td>\n      <td>NaN</td>\n    </tr>\n    <tr>\n      <td>1978-07-01</td>\n      <td>NaN</td>\n      <td>61.0</td>\n      <td>0.0</td>\n      <td>NaN</td>\n      <td>NaN</td>\n    </tr>\n    <tr>\n      <td>...</td>\n      <td>...</td>\n      <td>...</td>\n      <td>...</td>\n      <td>...</td>\n      <td>...</td>\n    </tr>\n    <tr>\n      <td>2019-02-01</td>\n      <td>NaN</td>\n      <td>65.7</td>\n      <td>0.0</td>\n      <td>NaN</td>\n      <td>NaN</td>\n    </tr>\n    <tr>\n      <td>2019-03-01</td>\n      <td>NaN</td>\n      <td>65.8</td>\n      <td>0.1</td>\n      <td>NaN</td>\n      <td>NaN</td>\n    </tr>\n    <tr>\n      <td>2019-04-01</td>\n      <td>NaN</td>\n      <td>65.9</td>\n      <td>0.1</td>\n      <td>NaN</td>\n      <td>NaN</td>\n    </tr>\n    <tr>\n      <td>2019-05-01</td>\n      <td>NaN</td>\n      <td>66.0</td>\n      <td>0.1</td>\n      <td>NaN</td>\n      <td>NaN</td>\n    </tr>\n    <tr>\n      <td>2019-06-01</td>\n      <td>NaN</td>\n      <td>66.0</td>\n      <td>0.0</td>\n      <td>NaN</td>\n      <td>NaN</td>\n    </tr>\n  </tbody>\n</table>\n<p>496 rows × 5 columns</p>\n</div>"
     },
     "metadata": {},
     "output_type": "execute_result",
     "execution_count": 100
    }
   ],
   "source": [
    "doo"
   ],
   "metadata": {
    "collapsed": false,
    "pycharm": {
     "name": "#%%\n",
     "is_executing": false
    }
   }
  },
  {
   "cell_type": "code",
   "execution_count": null,
   "outputs": [],
   "source": [
    "def dist(series, target):\n",
    "    return ((series - target[series.nam])/series.mean()) ** 2\n",
    "doo.apply(lambda :)"
   ],
   "metadata": {
    "collapsed": false,
    "pycharm": {
     "name": "#%%\n"
    }
   }
  },
  {
   "cell_type": "code",
   "execution_count": null,
   "outputs": [],
   "source": [
    "from typing import List\n",
    "\n",
    "pred = pd.DataFrame()\n",
    "\n",
    "class Month:\n",
    "    def __init__(self, y, z):\n",
    "        y: float = y\n",
    "        z: float = z\n",
    "    \n",
    "    # def distance(self, other: Month) -> float:\n",
    "    #     \n",
    "\n",
    "\n",
    "sep = Month(400, )\n",
    "\n",
    "\n",
    "\n",
    "new_state = Month()"
   ],
   "metadata": {
    "collapsed": false,
    "pycharm": {
     "name": "#%%\n"
    }
   }
  }
 ],
 "metadata": {
  "language_info": {
   "codemirror_mode": {
    "name": "ipython",
    "version": 2
   },
   "file_extension": ".py",
   "mimetype": "text/x-python",
   "name": "python",
   "nbconvert_exporter": "python",
   "pygments_lexer": "ipython2",
   "version": "2.7.6"
  },
  "kernelspec": {
   "name": "python3",
   "language": "python",
   "display_name": "Python 3"
  },
  "pycharm": {
   "stem_cell": {
    "cell_type": "raw",
    "source": [],
    "metadata": {
     "collapsed": false
    }
   }
  }
 },
 "nbformat": 4,
 "nbformat_minor": 0
}