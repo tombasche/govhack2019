{
 "cells": [
  {
   "cell_type": "code",
   "execution_count": 1,
   "metadata": {
    "collapsed": true,
    "pycharm": {
     "is_executing": false
    }
   },
   "outputs": [],
   "source": [
    "import pandas as pd"
   ]
  },
  {
   "cell_type": "code",
   "execution_count": 80,
   "outputs": [
    {
     "name": "stdout",
     "text": [
      "            Birth Rate\nMonth                 \n2006-01-01         390\n2006-02-01         364\n2006-03-01         417\n            Employment %\nMonth                   \n1978-02-01          61.1\n1978-03-01          61.1\n1978-04-01          61.1\n"
     ],
     "output_type": "stream"
    }
   ],
   "source": [
    "births = pd.read_csv(\"data/birth_data.csv\")\n",
    "births.columns = [\"Month\", \"Birth Rate\"]\n",
    "births.index = births[\"Month\"]\n",
    "births.drop(columns=[\"Month\"], inplace=True)\n",
    "\n",
    "\n",
    "jobs = pd.read_csv(\"data/Employment_no_SA.csv\")\n",
    "jobs = jobs.drop([\"Month.1\"], axis=1)\n",
    "jobs.index = jobs.Month\n",
    "jobs = jobs.drop([\"Month\"], axis=1)\n",
    "jobs.columns = [\"Employment %\"]\n",
    "\n",
    "bus_rides = pd.read_csv(\"data/passengers_per_month.csv\")\n",
    "bus_rides.columns = [\"Month\", \"Avg Bus Utilization\"]\n",
    "bus_rides.index = bus_rides[\"Month\"]\n",
    "bus_rides.drop(columns=[\"Month\"], inplace=True)\n",
    "\n",
    "\n",
    "population = pd.read_csv(\"data/population_data.csv\")\n",
    "air = pd.read_csv(\"data/air_quality_data.csv\")\n",
    "air[\"DateTime\"] = pd.to_datetime(air[\"DateTime\"])\n",
    "air.set_index(\"DateTime\", inplace=True)\n",
    "\n",
    "air_month = pd.DataFrame(air.resample(\"BMS\").mean()[\"AQI_Site\"])\n",
    "air_month.columns = [\"AQI\"]\n",
    "air_month.index = pd.to_datetime(air_month.index)\n",
    "\n",
    "Serieses = [births, jobs]\n",
    "# Serieses = [births, jobs, bus_rides]\n",
    "for s in Serieses:\n",
    "    print(s.head(3))"
   ],
   "metadata": {
    "collapsed": false,
    "pycharm": {
     "name": "#%%\n",
     "is_executing": false
    }
   }
  },
  {
   "cell_type": "code",
   "execution_count": 81,
   "outputs": [
    {
     "name": "stderr",
     "text": [
      "/home/metaten/.virtualenvs/govhack/lib/python3.6/site-packages/ipykernel_launcher.py:1: FutureWarning: Sorting because non-concatenation axis is not aligned. A future version\nof pandas will change to not sort by default.\n\nTo accept the future behavior, pass 'sort=False'.\n\nTo retain the current behavior and silence the warning, pass 'sort=True'.\n\n  \"\"\"Entry point for launching an IPython kernel.\n"
     ],
     "output_type": "stream"
    }
   ],
   "source": [
    "doo = pd.concat(Serieses, axis=1)\n"
   ],
   "metadata": {
    "collapsed": false,
    "pycharm": {
     "name": "#%%\n",
     "is_executing": false
    }
   }
  },
  {
   "cell_type": "code",
   "execution_count": 86,
   "outputs": [],
   "source": [
    "doo.dropna()\n",
    "birth_employ = doo[\"Birth Rate\"].corr(doo[\"Employment %\"])"
   ],
   "metadata": {
    "collapsed": false,
    "pycharm": {
     "name": "#%%\n",
     "is_executing": false
    }
   }
  },
  {
   "cell_type": "code",
   "execution_count": 87,
   "outputs": [
    {
     "data": {
      "text/plain": "-0.35459212262231227"
     },
     "metadata": {},
     "output_type": "execute_result",
     "execution_count": 87
    }
   ],
   "source": [
    "birth_employ"
   ],
   "metadata": {
    "collapsed": false,
    "pycharm": {
     "name": "#%%\n",
     "is_executing": false
    }
   }
  }
 ],
 "metadata": {
  "language_info": {
   "codemirror_mode": {
    "name": "ipython",
    "version": 2
   },
   "file_extension": ".py",
   "mimetype": "text/x-python",
   "name": "python",
   "nbconvert_exporter": "python",
   "pygments_lexer": "ipython2",
   "version": "2.7.6"
  },
  "kernelspec": {
   "name": "python3",
   "language": "python",
   "display_name": "Python 3"
  },
  "pycharm": {
   "stem_cell": {
    "cell_type": "raw",
    "source": [],
    "metadata": {
     "collapsed": false
    }
   }
  }
 },
 "nbformat": 4,
 "nbformat_minor": 0
}